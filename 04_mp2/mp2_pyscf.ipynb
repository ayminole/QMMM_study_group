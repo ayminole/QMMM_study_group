{
 "cells": [
  {
   "cell_type": "markdown",
   "metadata": {},
   "source": [
    "# MP2"
   ]
  },
  {
   "cell_type": "markdown",
   "metadata": {},
   "source": [
    "## Some useful resources:\n",
    " - Szabo and Ostlund Chapter ??\n",
    " - Levine Chapter 16\n",
    " - [Crawdad programming notes](http://sirius.chem.vt.edu/wiki/doku.php?id=crawdad:programming:project4)"
   ]
  },
  {
   "cell_type": "markdown",
   "metadata": {},
   "source": [
    "# MP2 algorithm\n",
    "1. The starting point will be the Hartree-Fock wavefunction. "
   ]
  },
  {
   "cell_type": "markdown",
   "metadata": {},
   "source": [
    "## Imports"
   ]
  },
  {
   "cell_type": "code",
   "execution_count": 7,
   "metadata": {},
   "outputs": [],
   "source": [
    "import numpy as np\n",
    "import scipy.linalg as spla\n",
    "import pyscf\n",
    "from pyscf import gto, scf\n",
    "import matplotlib.pyplot as plt\n",
    "import time\n",
    "%matplotlib notebook"
   ]
  },
  {
   "cell_type": "markdown",
   "metadata": {},
   "source": [
    "## Specify the molecule"
   ]
  },
  {
   "cell_type": "code",
   "execution_count": 8,
   "metadata": {},
   "outputs": [],
   "source": [
    "# start timer\n",
    "start_time = time.time()\n",
    "# define molecule\n",
    "mol = pyscf.gto.M(\n",
    "    atom=\"O 0.0000000 0.0000000 0.0000000; H 0.7569685 0.0000000 -0.5858752; H -0.7569685 0.0000000 -0.5858752\",\n",
    "    basis='sto-3g',\n",
    "    unit = \"Ang\",\n",
    "    verbose=0,\n",
    "    symmetry=False,\n",
    "    spin = 0,\n",
    "    charge = 0\n",
    ")\n",
    "# get number of atomic orbitals\n",
    "num_ao = mol.nao_nr()\n",
    "# get number of electrons\n",
    "num_elec_alpha, num_elec_beta = mol.nelec\n",
    "num_elec = num_elec_alpha + num_elec_beta\n",
    "# get nuclear repulsion energy\n",
    "E_nuc = mol.energy_nuc()"
   ]
  },
  {
   "cell_type": "markdown",
   "metadata": {},
   "source": [
    "## Calculate molecular integrals \n",
    "\n",
    "\n",
    "Overlap \n",
    "\n",
    "$$ S_{\\mu\\nu} = (\\mu|\\nu) = \\int dr \\phi^*_{\\mu}(r) \\phi_{\\nu}(r) $$\n",
    "\n",
    "Kinetic\n",
    "\n",
    "$$ T_{\\mu\\nu} = (\\mu\\left|-\\frac{\\nabla}{2}\\right|\\nu) = \\int dr \\phi^*_{\\mu}(r) \\left(-\\frac{\\nabla}{2}\\right) \\phi_{\\nu}(r) $$\n",
    "\n",
    "Nuclear Attraction\n",
    "\n",
    "$$ V_{\\mu\\nu} = (\\mu|r^{-1}|\\nu) = \\int dr \\phi^*_{\\mu}(r) r^{-1} \\phi_{\\nu}(r) $$\n",
    "\n",
    "Form Core Hamiltonian\n",
    "\n",
    "$$ H = T + V $$\n",
    "\n",
    "Two electron integrals\n",
    "\n",
    "$$ (\\mu\\nu|\\lambda\\sigma) = \\int dr_1 dr_2 \\phi^*_{\\mu}(r_1) \\phi_{\\nu}(r_1) r_{12}^{-1} \\phi^*_{\\lambda}(r_2) \\phi_{\\sigma}(r_2) $$\n"
   ]
  },
  {
   "cell_type": "code",
   "execution_count": 9,
   "metadata": {},
   "outputs": [
    {
     "name": "stdout",
     "output_type": "stream",
     "text": [
      "(406,)\n"
     ]
    }
   ],
   "source": [
    "# calculate overlap integrals\n",
    "S = mol.intor('cint1e_ovlp_sph')\n",
    "# calculate kinetic energy integrals\n",
    "T = mol.intor('cint1e_kin_sph')\n",
    "# calculate nuclear attraction integrals\n",
    "V = mol.intor('cint1e_nuc_sph')\n",
    "# form core Hamiltonian\n",
    "H = T + V\n",
    "# calculate two electron integrals\n",
    "eri = mol.intor('cint2e_sph', aosym='s8')\n",
    "# since we are using the 8 fold symmetry of the 2 electron integrals\n",
    "# the functions below will help us when accessing elements\n",
    "__idx2_cache = {}\n",
    "\n",
    "\n",
    "def idx2(i, j):\n",
    "    if (i, j) in __idx2_cache:\n",
    "        return __idx2_cache[i, j]\n",
    "    elif i >= j:\n",
    "        __idx2_cache[i, j] = int(i*(i+1)/2+j)\n",
    "    else:\n",
    "        __idx2_cache[i, j] = int(j*(j+1)/2+i)\n",
    "    return __idx2_cache[i, j]\n",
    "\n",
    "\n",
    "def idx4(i, j, k, l):\n",
    "    return idx2(idx2(i, j), idx2(k, l))\n",
    "\n",
    "\n",
    "print(np.shape(eri))"
   ]
  },
  {
   "cell_type": "markdown",
   "metadata": {},
   "source": [
    "## Perform Hartree-Fock SCF"
   ]
  },
  {
   "cell_type": "code",
   "execution_count": 10,
   "metadata": {},
   "outputs": [
    {
     "name": "stdout",
     "output_type": "stream",
     "text": [
      "           Iter      Time(s)      RMSC DM      delta E       E_elec            \n",
      "           ****      *******      *******      *******       ******            \n",
      "              1     0.014427  2.69561E+00  1.27367E+02  -127.366748            \n",
      "              2     0.014687  1.84626E+00  4.69671E+01   -80.399634            \n",
      "              3     0.015509  1.84892E-01  4.07021E+00   -84.469843            \n",
      "              4     0.016170  3.65179E-02  3.36584E-01   -84.133260            \n",
      "              5     0.013620  1.41819E-02  2.77766E-02   -84.161036            \n",
      "              6     0.016631  5.65413E-03  2.81184E-03   -84.158224            \n",
      "              7     0.013679  2.37192E-03  1.60719E-04   -84.158064            \n",
      "              8     0.011272  1.00945E-03  1.58481E-04   -84.157905            \n",
      "              9     0.011572  4.33408E-04  6.31723E-05   -84.157842            \n",
      "             10     0.013509  1.86875E-04  2.79308E-05   -84.157814            \n",
      "             11     0.012113  8.07615E-05  1.20778E-05   -84.157802            \n",
      "             12     0.011884  3.49458E-05  5.23652E-06   -84.157797            \n",
      "             13     0.011860  1.51315E-05  2.26871E-06   -84.157794            \n",
      "             14     0.013602  6.55436E-06  9.83028E-07   -84.157794            \n",
      "             15     0.011860  2.83969E-06  4.25957E-07   -84.157793            \n",
      "             16     0.012775  1.23045E-06  1.84580E-07   -84.157793            \n",
      "             17     0.014358  5.33191E-07  7.99867E-08   -84.157793            \n",
      "             18     0.013685  2.31057E-07  3.46626E-08   -84.157793            \n",
      "             19     0.012659  1.00130E-07  1.50213E-08   -84.157793            \n",
      "             20     0.013235  4.33923E-08  6.50964E-09   -84.157793            \n",
      "             21     0.014248  1.88046E-08  2.82104E-09   -84.157793            \n",
      "             22     0.013132  8.14927E-09  1.22260E-09   -84.157793            \n",
      "             23     0.014447  3.53162E-09  5.29809E-10   -84.157793            \n",
      "                          Total Energy :  -74.962929                           \n"
     ]
    }
   ],
   "source": [
    "# set inital density matrix to zero\n",
    "D = np.zeros((num_ao, num_ao))\n",
    "\n",
    "# 2 helper functions for printing during SCF\n",
    "\n",
    "\n",
    "def print_start_iterations():\n",
    "    print(\"{:^79}\".format(\"{:>4}  {:>11}  {:>11}  {:>11}  {:>11}\".format(\n",
    "        \"Iter\", \"Time(s)\", \"RMSC DM\", \"delta E\", \"E_elec\")))\n",
    "    print(\"{:^79}\".format(\"{:>4}  {:>11}  {:>11}  {:>11}  {:>11}\".format(\n",
    "        \"****\", \"*******\", \"*******\", \"*******\", \"******\")))\n",
    "\n",
    "\n",
    "def print_iteration(iteration_num, iteration_start_time, iteration_end_time, iteration_rmsc_dm, iteration_E_diff, E_elec):\n",
    "    print(\"{:^79}\".format(\"{:>4d}  {:>11f}  {:>.5E}  {:>.5E}  {:>11f}\".format(iteration_num,\n",
    "                                                                              iteration_end_time - iteration_start_time, iteration_rmsc_dm, iteration_E_diff, E_elec)))\n",
    "\n",
    "\n",
    "# set stopping criteria\n",
    "iteration_max = 100\n",
    "convergence_E = 1e-9\n",
    "convergence_DM = 1e-5\n",
    "# loop variables\n",
    "iteration_num = 0\n",
    "E_total = 0\n",
    "E_elec = 0.0\n",
    "iteration_E_diff = 0.0\n",
    "iteration_rmsc_dm = 0.0\n",
    "converged = False\n",
    "exceeded_iterations = False\n",
    "\n",
    "print_start_iterations()\n",
    "while (not converged and not exceeded_iterations):\n",
    "    # store last iteration and increment counters\n",
    "    iteration_start_time = time.time()\n",
    "    iteration_num += 1\n",
    "    E_elec_last = E_elec\n",
    "    D_last = np.copy(D)\n",
    "    # form G matrix\n",
    "    G = np.zeros((num_ao, num_ao))\n",
    "    for i in range(num_ao):\n",
    "        for j in range(num_ao):\n",
    "            for k in range(num_ao):\n",
    "                for l in range(num_ao):\n",
    "                    G[i, j] += D[k, l] * \\\n",
    "                        ((2.0*(eri[idx4(i, j, k, l)])) -\n",
    "                         (eri[idx4(i, k, j, l)]))\n",
    "    # build fock matrix\n",
    "    F = H + G\n",
    "    # solve the generalized eigenvalue problem\n",
    "    E_orbitals, C = spla.eigh(F, S)\n",
    "    # compute new density matrix\n",
    "    D = np.zeros((num_ao, num_ao))\n",
    "    for i in range(num_ao):\n",
    "        for j in range(num_ao):\n",
    "            for k in range(num_elec_alpha):\n",
    "                D[i, j] += C[i, k] * C[j, k]\n",
    "    # calculate electronic energy\n",
    "    E_elec = np.sum(np.multiply(D, (H + F)))\n",
    "    # calculate energy change of iteration\n",
    "    iteration_E_diff = np.abs(E_elec - E_elec_last)\n",
    "    # rms change of density matrix\n",
    "    iteration_rmsc_dm = np.sqrt(np.sum((D - D_last)**2))\n",
    "    iteration_end_time = time.time()\n",
    "    print_iteration(iteration_num, iteration_start_time,\n",
    "                    iteration_end_time, iteration_rmsc_dm, iteration_E_diff, E_elec)\n",
    "    if(np.abs(iteration_E_diff) < convergence_E and iteration_rmsc_dm < convergence_DM):\n",
    "        converged = True\n",
    "    if(iteration_num == iteration_max):\n",
    "        exceeded_iterations = True\n",
    "\n",
    "# calculate total energy\n",
    "E_total = E_elec + E_nuc\n",
    "\n",
    "print(\"{:^79}\".format(\"Total Energy : {:>11f}\".format(E_total)))"
   ]
  },
  {
   "cell_type": "markdown",
   "metadata": {},
   "source": [
    "# Perform MP2 calculation"
   ]
  },
  {
   "cell_type": "markdown",
   "metadata": {},
   "source": [
    "## Convert the two electron integrals from AO basis to the MO basis\n",
    "\n",
    "### Noddy Algorithm: Scales N$^8$\n",
    "\n",
    "$$(pq|rs) = \\sum_\\mu \\sum_\\nu \\sum_\\lambda \\sum_\\sigma C_\\mu^p C_\\nu^q\n",
    "(\\mu \\nu|\\lambda \\sigma) C_\\lambda^r C_\\sigma^s.$$"
   ]
  },
  {
   "cell_type": "code",
   "execution_count": 11,
   "metadata": {},
   "outputs": [
    {
     "name": "stdout",
     "output_type": "stream",
     "text": [
      "(7, 7, 7, 7)\n",
      "Time to complete noddy algorithm: 25.107496976852417 seconds\n"
     ]
    }
   ],
   "source": [
    "# SLOW ALGORITHM \n",
    "\n",
    "time_start_1 = time.time()\n",
    "\n",
    "eri_mo = np.zeros((num_ao,num_ao,num_ao,num_ao))\n",
    "\n",
    "for p in range(num_ao):\n",
    "    for q in range(num_ao):\n",
    "        for r in range(num_ao):\n",
    "            for s in range(num_ao):\n",
    "                for mu in range(num_ao):\n",
    "                    for nu in range(num_ao):\n",
    "                        for lmbda in range(num_ao):\n",
    "                            for sigma in range(num_ao):\n",
    "                                eri_mo[p,q,r,s] += C[mu,p] * C[nu,q] * eri[idx4(mu,nu,lmbda,sigma)] * C[lmbda,r] * C[sigma,s]\n",
    "\n",
    "print(np.shape(eri_mo))                                \n",
    "time_stop_1 = time.time()\n",
    "print(\"Time to complete noddy algorithm: {:.2f} seconds\".format(time_stop_1-time_start_1))"
   ]
  },
  {
   "cell_type": "markdown",
   "metadata": {},
   "source": [
    "### Smart Algorithm: Scales N$^5$\n",
    "\n",
    "$$(pq|rs) = \\sum_\\mu C_\\mu^p \\bigg[ \\sum_\\nu C_\\nu^q \\bigg[ \\sum_\\lambda C_\\lambda^r \\bigg[ \\sum_\\sigma C_\\sigma^s (\\mu \\nu | \\lambda \\sigma) \\bigg] \\bigg] \\bigg] $$\n",
    "\n"
   ]
  },
  {
   "cell_type": "code",
   "execution_count": 29,
   "metadata": {},
   "outputs": [
    {
     "name": "stdout",
     "output_type": "stream",
     "text": [
      "FAIL.\n",
      "Difference: 0.11113131687061964\n"
     ]
    }
   ],
   "source": [
    "# SMART ALGORITHM\n",
    "\n",
    "time_start_2 = time.time()\n",
    "\n",
    "temp_1 = np.zeros()\n",
    "temp_2 = np.zeros()\n",
    "temp_3 = np.zeros()\n",
    "temp_4 = np.zeros()\n",
    "\n",
    "for s in range(num_ao):\n",
    "     for mu in range(num_ao):\n",
    "        for nu in range(num_ao):\n",
    "            for lmbda in range(num_ao):\n",
    "                for sigma in range(num_ao):\n",
    "\n",
    "\n",
    "for p in range(num_ao):\n",
    "    for q in range(num_ao):\n",
    "        for r in range(num_ao):\n",
    "            for s in range(num_ao):\n",
    "                \n",
    "\n",
    "for p in range(num_ao):\n",
    "    for q in range(num_ao):\n",
    "        for r in range(num_ao):\n",
    "            for s in range(num_ao):\n",
    "                for sigma in range(num_ao):\n",
    "                    temp_1[s] += C[sigma,s] * eri[idx4(mu,nu,lmbda,sigma)]\n",
    "            for lmbda in range(num_ao):\n",
    "                temp_2[r,s] += \n",
    "        for nu in range(num_ao):\n",
    "            temp_3[] += \n",
    "    for mu in range(num_ao):\n",
    "        temp_4[] += \n",
    "                    \n",
    "\n",
    "\n",
    "eri_mo2 = sum_4\n",
    "\n",
    "if abs(np.average(eri_mo2-eri_mo)) > 1.00e-08:\n",
    "    print(\"FAIL.\")\n",
    "    print(\"Difference: {}\".format(np.average(eri_mo2-eri_mo)))\n",
    "else:\n",
    "    print(\"SUCCESS!!!!!!!!\")\n",
    "    print(\"Time to complete smart algorithm: {:.2f} seconds\".format(time_stop_2-time_start_2))                \n",
    "\n"
   ]
  },
  {
   "cell_type": "markdown",
   "metadata": {},
   "source": [
    "### Compute the MP2 Energy"
   ]
  },
  {
   "cell_type": "code",
   "execution_count": null,
   "metadata": {},
   "outputs": [],
   "source": [
    "# i and j = occupied MOs (0 to n_alpha)\n",
    "# a and b = unoccupied MOs (n_alpha to n_total)\n",
    "\n",
    "E_corr_mp2 = 0\n",
    "\n",
    "for i in range(0,num_elec_alpha):\n",
    "    for j in range(0,num_elec_alpha):\n",
    "        for a in range(num_elec_alpha,num_ao):\n",
    "            for b in range(num_elec_alpha,num_ao):\n",
    "                val = eri_mo[i,a,j,b] * (2*eri_mo[i,a,j,b] - eri_mo[i,b,j,a])\n",
    "                val /= (E_orbitals[i] + E_orbitals[j] - E_orbitals[a] - E_orbitals[b])\n",
    "                E_corr_mp2 += val \n",
    "                \n",
    "print('E(mp2): {}'.format(E_corr_mp2))"
   ]
  },
  {
   "cell_type": "code",
   "execution_count": null,
   "metadata": {},
   "outputs": [],
   "source": [
    "\n"
   ]
  },
  {
   "cell_type": "code",
   "execution_count": null,
   "metadata": {},
   "outputs": [],
   "source": []
  },
  {
   "cell_type": "code",
   "execution_count": null,
   "metadata": {},
   "outputs": [],
   "source": [
    "#comparison from pyscf\n",
    "E_diff = E_corr_mp2_pyscf - E_corr_mp2\n",
    "print(E_diff)\n"
   ]
  }
 ],
 "metadata": {
  "kernelspec": {
   "display_name": "Python 3",
   "language": "python",
   "name": "python3"
  },
  "language_info": {
   "codemirror_mode": {
    "name": "ipython",
    "version": 3
   },
   "file_extension": ".py",
   "mimetype": "text/x-python",
   "name": "python",
   "nbconvert_exporter": "python",
   "pygments_lexer": "ipython3",
   "version": "3.6.6"
  },
  "toc": {
   "base_numbering": 1,
   "nav_menu": {},
   "number_sections": true,
   "sideBar": true,
   "skip_h1_title": false,
   "title_cell": "Table of Contents",
   "title_sidebar": "Contents",
   "toc_cell": false,
   "toc_position": {},
   "toc_section_display": true,
   "toc_window_display": false
  }
 },
 "nbformat": 4,
 "nbformat_minor": 2
}
